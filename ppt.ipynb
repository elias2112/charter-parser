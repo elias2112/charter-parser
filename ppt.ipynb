{
 "cells": [
  {
   "cell_type": "code",
   "execution_count": null,
   "id": "72cc0050",
   "metadata": {},
   "outputs": [],
   "source": [
    "from pptx import Presentation\n",
    "import json\n",
    "import pprint\n",
    "from collections import OrderedDict\n",
    "import csv"
   ]
  },
  {
   "cell_type": "markdown",
   "id": "47f78ae2",
   "metadata": {},
   "source": [
    "## Functions"
   ]
  },
  {
   "cell_type": "code",
   "execution_count": 14,
   "id": "169acd9b",
   "metadata": {},
   "outputs": [],
   "source": [
    "def extract_all_text_by_slide(pptx_path):\n",
    "    prs = Presentation(pptx_path)\n",
    "    slides_data = []\n",
    "\n",
    "    for i, slide in enumerate(prs.slides):\n",
    "        slide_texts = []\n",
    "        for shape in slide.shapes:\n",
    "            if shape.has_text_frame:\n",
    "                text = shape.text.strip()\n",
    "                if text:\n",
    "                    slide_texts.append(text)\n",
    "        if slide_texts:\n",
    "            slides_data.append({\n",
    "                \"slide_number\": i + 1,\n",
    "                \"contents\": slide_texts\n",
    "            })\n",
    "\n",
    "    return slides_data\n",
    "\n",
    "def extract_block(normalized, contents, start_title, end_title=None):\n",
    "    try:\n",
    "        start_idx = normalized.index(start_title.lower()) + 1\n",
    "        end_idx = normalized.index(end_title.lower()) if end_title else len(contents)\n",
    "        return \"\\n\".join(x.strip() for x in contents[start_idx:end_idx] if x.strip())\n",
    "    except:\n",
    "        return \"\"\n",
    "\n",
    "def extract_fallback_block(contents, start_phrase, stop_phrases=[]):\n",
    "    try:\n",
    "        start_idx = next(i for i, c in enumerate(contents) if start_phrase in c)\n",
    "        end_idx = len(contents)\n",
    "        for stop in stop_phrases:\n",
    "            try:\n",
    "                temp = next(i for i, c in enumerate(contents[start_idx:], start=start_idx) if stop.lower() in c.lower())\n",
    "                end_idx = min(end_idx, temp)\n",
    "            except:\n",
    "                continue\n",
    "        return \"\\n\".join(x.strip() for x in contents[start_idx:end_idx] if x.strip())\n",
    "    except:\n",
    "        return \"\""
   ]
  },
  {
   "cell_type": "markdown",
   "id": "21d1513b",
   "metadata": {},
   "source": [
    "## Loading data"
   ]
  },
  {
   "cell_type": "code",
   "execution_count": null,
   "id": "3a21fafa",
   "metadata": {},
   "outputs": [],
   "source": [
    "ppt_path = \"Charters.pptx\"\n",
    "slides_json = extract_all_text_by_slide(ppt_path)\n",
    "\n",
    "with open(\"output_charters_completo.json\", \"w\", encoding=\"utf-8\") as f:\n",
    "    json.dump(slides_json, f, indent=2, ensure_ascii=False)\n",
    "    data = json.load(f)\n"
   ]
  },
  {
   "cell_type": "code",
   "execution_count": 15,
   "id": "961a8be9",
   "metadata": {},
   "outputs": [],
   "source": [
    "structured_slides = []\n",
    "\n",
    "for slide in data:\n",
    "    contents = slide[\"contents\"]\n",
    "    normalized = [c.lower().strip() for c in contents]\n",
    "    slide_struct = OrderedDict()\n",
    "\n",
    "    # Título \n",
    "    slide_struct[\"slide_number\"] = slide[\"slide_number\"]\n",
    "    slide_struct[\"title\"] = contents[-1].strip() if contents else \"\"\n",
    "\n",
    "    # Problem statement \n",
    "    slide_struct[\"problem_statement\"] = contents[0].strip() if contents else \"\"\n",
    "\n",
    "    # Duration + Costs\n",
    "    slide_struct[\"duration\"] = \"\"\n",
    "    slide_struct[\"one_time_costs\"] = \"\"\n",
    "    slide_struct[\"run_rate_cost\"] = \"\"\n",
    "    try:\n",
    "        for i in range(len(contents) - 6):\n",
    "            if (contents[i].strip().lower() == \"duration\" and\n",
    "                contents[i + 1].strip().lower() == \"one-time costs\" and\n",
    "                contents[i + 2].strip().lower() == \"run rate cost\"):\n",
    "                slide_struct[\"duration\"] = contents[i + 3].strip()\n",
    "                slide_struct[\"one_time_costs\"] = contents[i + 4].strip()\n",
    "                slide_struct[\"run_rate_cost\"] = contents[i + 5].strip()\n",
    "                break\n",
    "    except:\n",
    "        pass\n",
    "\n",
    "    # Goal Statement\n",
    "    goal_text = extract_block(normalized, contents, \"Goal Statement\", \"In Scope\")\n",
    "    if not goal_text:\n",
    "        goal_text = extract_fallback_block(contents, \"Business Objective:\", [\"In Scope\", \"Out of Scope\", \"Approach including phasing\"])\n",
    "    slide_struct[\"goal_statement\"] = goal_text\n",
    "\n",
    "    # In Scope \n",
    "    try:\n",
    "        out_scope_idx = normalized.index(\"out of scope\")\n",
    "        in_scope_text = contents[out_scope_idx - 1].strip()\n",
    "        slide_struct[\"in_scope\"] = in_scope_text\n",
    "    except:\n",
    "        slide_struct[\"in_scope\"] = \"\"\n",
    "\n",
    "    # Out of Scope\n",
    "    out_scope_block = extract_block(normalized, contents, \"Out of Scope\", \"Approach including phasing\")\n",
    "    if not out_scope_block:\n",
    "        out_scope_block = extract_fallback_block(contents, \"Out of Scope\", [\"Phase 1\", \"Phase 2\"])\n",
    "    slide_struct[\"out_of_scope\"] = out_scope_block\n",
    "\n",
    "    # Approach\n",
    "    approach_text = extract_block(normalized, contents, \"Approach including phasing\", \"Benefits overview\")\n",
    "    if not approach_text:\n",
    "        approach_text = extract_fallback_block(contents, \"Phase 1\", [\"Benefits overview\"])\n",
    "    slide_struct[\"approach\"] = approach_text\n",
    "\n",
    "    # Benefits\n",
    "    slide_struct[\"benefits\"] = extract_block(normalized, contents, \"Benefits overview & positive impact to qlik\", \"Dependencies and constraints\")\n",
    "\n",
    "    # Dependencias y restricciones\n",
    "    slide_struct[\"dependencies_constraints\"] = extract_block(normalized, contents, \"Dependencies and constraints\", \"Risks & negative impact to qlik\")\n",
    "\n",
    "    # Risks\n",
    "    try:\n",
    "        start_idx = normalized.index(\"risks & negative impact to qlik\") + 1\n",
    "        end_idx = len(contents) - 1\n",
    "        block = contents[start_idx:end_idx]\n",
    "        slide_struct[\"risks\"] = \"\\n\".join(x.strip() for x in block if x.strip())\n",
    "    except:\n",
    "        slide_struct[\"risks\"] = \"\"\n",
    "\n",
    "    structured_slides.append(slide_struct)\n"
   ]
  },
  {
   "cell_type": "markdown",
   "id": "8a3087b8",
   "metadata": {},
   "source": [
    "## Save result"
   ]
  },
  {
   "cell_type": "code",
   "execution_count": null,
   "id": "14e3c46a",
   "metadata": {},
   "outputs": [],
   "source": [
    "with open(\"charters_SLIDES_FINAL.json\", \"w\", encoding=\"utf-8\") as f:\n",
    "    json.dump(structured_slides, f, indent=2, ensure_ascii=False)"
   ]
  },
  {
   "cell_type": "code",
   "execution_count": null,
   "id": "08720adb",
   "metadata": {},
   "outputs": [],
   "source": []
  },
  {
   "cell_type": "markdown",
   "id": "cda28b61",
   "metadata": {},
   "source": [
    "## Save result CSV"
   ]
  },
  {
   "cell_type": "code",
   "execution_count": null,
   "id": "e502d409",
   "metadata": {},
   "outputs": [],
   "source": [
    "with open(\"charters_SLIDES_FINAL_dale.json\", \"r\", encoding=\"utf-8\") as f:\n",
    "    data = json.load(f)\n",
    "\n",
    "with open(\"charters_SLIDES_FINAL_dale.csv\", \"w\", encoding=\"utf-8\", newline='') as csvfile:\n",
    "    fieldnames = list(data[0].keys()) \n",
    "    writer = csv.DictWriter(csvfile, fieldnames=fieldnames)\n",
    "\n",
    "    writer.writeheader()\n",
    "    for row in data:\n",
    "        writer.writerow(row)\n",
    "\n",
    "print(\"Archivo CSV generado correctamente.\")\n"
   ]
  }
 ],
 "metadata": {
  "kernelspec": {
   "display_name": "Python 3",
   "language": "python",
   "name": "python3"
  },
  "language_info": {
   "codemirror_mode": {
    "name": "ipython",
    "version": 3
   },
   "file_extension": ".py",
   "mimetype": "text/x-python",
   "name": "python",
   "nbconvert_exporter": "python",
   "pygments_lexer": "ipython3",
   "version": "3.12.2"
  }
 },
 "nbformat": 4,
 "nbformat_minor": 5
}
